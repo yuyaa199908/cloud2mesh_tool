{
 "cells": [
  {
   "cell_type": "code",
   "execution_count": 3,
   "metadata": {},
   "outputs": [
    {
     "name": "stdout",
     "output_type": "stream",
     "text": [
      "Requirement already satisfied: scipy in /home/aichi2204/anaconda3/envs/cloud2mesh_tool/lib/python3.9/site-packages (1.13.0)\n",
      "Requirement already satisfied: shapely in /home/aichi2204/anaconda3/envs/cloud2mesh_tool/lib/python3.9/site-packages (2.0.4)\n",
      "Collecting alphashape\n",
      "  Downloading alphashape-1.3.1-py2.py3-none-any.whl.metadata (18 kB)\n",
      "Requirement already satisfied: numpy<2.3,>=1.22.4 in /home/aichi2204/anaconda3/envs/cloud2mesh_tool/lib/python3.9/site-packages (from scipy) (1.26.4)\n",
      "Requirement already satisfied: Click>=6.0 in /home/aichi2204/anaconda3/envs/cloud2mesh_tool/lib/python3.9/site-packages (from alphashape) (8.1.7)\n",
      "Collecting click-log>=0.3.2 (from alphashape)\n",
      "  Downloading click_log-0.4.0-py2.py3-none-any.whl.metadata (1.2 kB)\n",
      "Collecting trimesh>=3.9.8 (from alphashape)\n",
      "  Downloading trimesh-4.4.1-py3-none-any.whl.metadata (18 kB)\n",
      "Requirement already satisfied: networkx>=2.5 in /home/aichi2204/anaconda3/envs/cloud2mesh_tool/lib/python3.9/site-packages (from alphashape) (3.2.1)\n",
      "Collecting rtree>=0.9.7 (from alphashape)\n",
      "  Downloading Rtree-1.2.0-py3-none-manylinux2014_x86_64.manylinux_2_17_x86_64.whl.metadata (2.1 kB)\n",
      "Downloading alphashape-1.3.1-py2.py3-none-any.whl (13 kB)\n",
      "Downloading click_log-0.4.0-py2.py3-none-any.whl (4.3 kB)\n",
      "Downloading Rtree-1.2.0-py3-none-manylinux2014_x86_64.manylinux_2_17_x86_64.whl (535 kB)\n",
      "\u001b[2K   \u001b[90m━━━━━━━━━━━━━━━━━━━━━━━━━━━━━━━━━━━━━━━━\u001b[0m \u001b[32m535.2/535.2 kB\u001b[0m \u001b[31m7.2 MB/s\u001b[0m eta \u001b[36m0:00:00\u001b[0m00:01\u001b[0m00:01\u001b[0m\n",
      "\u001b[?25hDownloading trimesh-4.4.1-py3-none-any.whl (694 kB)\n",
      "\u001b[2K   \u001b[90m━━━━━━━━━━━━━━━━━━━━━━━━━━━━━━━━━━━━━━━━\u001b[0m \u001b[32m694.7/694.7 kB\u001b[0m \u001b[31m19.5 MB/s\u001b[0m eta \u001b[36m0:00:00\u001b[0m00:01\u001b[0m\n",
      "\u001b[?25hInstalling collected packages: trimesh, rtree, click-log, alphashape\n",
      "Successfully installed alphashape-1.3.1 click-log-0.4.0 rtree-1.2.0 trimesh-4.4.1\n"
     ]
    }
   ],
   "source": [
    "!pip install scipy shapely alphashape"
   ]
  },
  {
   "cell_type": "code",
   "execution_count": 11,
   "metadata": {},
   "outputs": [],
   "source": [
    "import open3d as o3d\n",
    "import numpy as np\n",
    "from scipy.spatial import cKDTree\n",
    "import matplotlib.pyplot as plt\n",
    "from sklearn.decomposition import PCA\n",
    "from scipy.spatial import ConvexHull\n",
    "from sklearn.cluster import DBSCAN\n",
    "from sklearn.linear_model import RANSACRegressor\n",
    "from sklearn.preprocessing import PolynomialFeatures\n",
    "from sklearn.pipeline import make_pipeline\n",
    "\n",
    "from scipy.spatial import Delaunay\n",
    "from shapely.geometry import MultiPoint, Polygon\n",
    "import alphashape\n",
    "from scipy.optimize import least_squares\n",
    "from scipy import stats\n",
    "import os, re"
   ]
  },
  {
   "cell_type": "code",
   "execution_count": 12,
   "metadata": {},
   "outputs": [],
   "source": [
    "def extract_integers_from_filenames(directory):\n",
    "    # 正規表現パターンを定義\n",
    "    pattern = re.compile(r'^(\\d+)\\.pcd$')\n",
    "    \n",
    "    # 指定ディレクトリ内のファイルを取得\n",
    "    files = os.listdir(directory)\n",
    "    \n",
    "    # 整数を格納するセット（重複を避けるため）\n",
    "    integers = set()\n",
    "    \n",
    "    # 各ファイルをチェック\n",
    "    for file in files:\n",
    "        match = pattern.match(file)\n",
    "        if match:\n",
    "            # ファイル名から整数を抽出してセットに追加\n",
    "            integer = int(match.group(1))\n",
    "            integers.add(integer)\n",
    "    \n",
    "    # 結果をソートしてリストとして返す\n",
    "    return sorted(integers)\n",
    "\n"
   ]
  },
  {
   "cell_type": "code",
   "execution_count": 13,
   "metadata": {},
   "outputs": [],
   "source": [
    "pcd_g  = o3d.io.read_point_cloud(\n",
    "    \"/home/aichi2204/Documents/bkl2go/20240412-library2/minimini_1/sp_25/ground_merged.pcd\"\n",
    "    )\n"
   ]
  },
  {
   "cell_type": "code",
   "execution_count": 14,
   "metadata": {},
   "outputs": [
    {
     "name": "stdout",
     "output_type": "stream",
     "text": [
      "15 [-64.59694917   6.05371255   0.92174578] [-62.27987087   3.24585958   0.75972674]\n",
      "16 [-65.39161312   6.9910512    0.98855817] [-65.45781015   7.07797958   0.98243883]\n",
      "17 [-66.15312822   7.92048793   1.02650075] [-66.29532131   8.09552467   1.0374417 ]\n",
      "19 [-67.38327764   9.38485395   1.07567758] [-67.17799349   9.18316275   1.06804764]\n",
      "20 [-67.41475097  14.15107919   1.08799905] [-68.26587973  15.17847604   1.07536416]\n",
      "26 [-65.22679016  11.49205997   1.13305541] [-65.73372679  11.06675364   1.12008051]\n",
      "27 [-66.61265943   8.48225703   1.06130984] [-66.88398259   8.79838118   1.06846311]\n",
      "31 [-66.43309265   7.94449925   0.34296668] [-67.3352299    9.03345535   0.33093214]\n",
      "32 [-66.49051123   8.3266599    1.04986791] [-66.46995957   8.319289     1.05064256]\n",
      "42 [-71.561673    12.79490766   0.97453913] [-69.80379671  14.27745758   1.02075379]\n",
      "48 [-67.2606203   14.04348454   1.08858961] [-66.58971869  13.2097487    1.10136984]\n",
      "49 [-67.39520232   9.07862637   0.32538057] [-68.96382242   7.78073585   0.24255347]\n",
      "52 [-66.38957676   7.57832295   0.33145024] [-64.90334865   5.77589627   0.49375206]\n",
      "53 [-64.68463595   6.17808859   0.92609626] [-64.75418576   6.24337835   0.93652034]\n",
      "56 [-68.26736626  15.15592591   1.07346833] [-68.82082852  14.6994425    1.05834188]\n",
      "57 [-65.06159043   6.62394623   0.95094093] [-64.99017949   6.51891317   0.94503723]\n",
      "60 [-61.89802487   1.97273687   0.74865102] [-62.69212206   1.31754023   0.76120905]\n",
      "61 [-72.35982371  12.12084805   0.18543767] [-72.47957847  12.02962061   0.15776999]\n",
      "62 [-66.17126472  11.02938341   1.10924456] [-66.58511864  10.67702476   1.09706638]\n",
      "67 [-67.30460134   6.73745996   0.29828075] [-62.84480435   1.33680203   0.80780776]\n",
      "70 [-65.31327806   6.90778614   0.9672866 ] [-65.27312444   6.86410419   0.96607447]\n",
      "71 [-68.90127017  14.340779     1.05191818] [-69.30345111  14.00242745   1.03643915]\n",
      "74 [-65.81467284   7.52265771   1.00208961] [-65.71364303   7.38339735   0.99972195]\n",
      "80 [-64.77345321   5.62445753   0.5042119 ] [-62.85761867   3.30129792   0.72623882]\n",
      "81 [-67.43828757   9.3356638    1.0723655 ] [-68.1851951    8.7062456    1.04177674]\n",
      "88 [-66.93493388   8.87338393   1.0648054 ] [-66.9976605    8.9338511    1.06933819]\n",
      "98 [-61.73486306   2.1053543    0.75195674] [-60.58212091   3.06286838   0.7788377 ]\n",
      "130 [-68.96727189   8.05243128   0.22578306] [-69.11914161   7.91128981   0.2276106 ]\n",
      "131 [-69.32145556  13.98713344   1.03387841] [-69.714939    14.44494668   1.02081032]\n",
      "137 [-66.19741873  10.21622352   1.10623184] [-66.57174947  10.66404073   1.09718487]\n",
      "167 [-69.0719986    7.85099983   0.25      ] [-69.05400085   7.82399988   0.25      ]\n",
      "180 [-66.19410341  10.22615864   1.1093837 ] [-66.32033624  10.12410627   1.09782402]\n",
      "224 [-66.35854067  10.07890471   1.09080316] [-60.55882219   3.08913628   0.7299327 ]\n",
      "325 [-72.20404275  12.10483181   0.17128102] [-68.89726227   8.104965     0.22811659]\n",
      "346 [-67.44929714   6.69867851   0.27367238] [-67.50683212   6.66497465   0.28435682]\n",
      "352 [-65.2188488   11.49895005   1.1329693 ] [-65.29997045  11.59409716   1.12995598]\n",
      "391 [-66.38780674  12.98471818   1.10918691] [-66.29196524  12.87859665   1.10554163]\n",
      "395 [-72.52873013  12.00789177   0.14918181] [-72.97721034  11.64516733   0.08990648]\n",
      "635 [-66.2129081   12.75071085   1.11248189] [-65.54116133  11.87147814   1.1206844 ]\n",
      "773 [-71.56574131  12.7821403    0.9747712 ] [-68.19917604   8.70950786   1.04155191]\n",
      "860 [-68.27367847  15.17161184   1.08166728] [-68.25279988  15.16945486   1.07665773]\n",
      "1127 [-7.37424169e+01  1.10117458e+01  2.20319164e-02] [-72.99487512  11.62232842   0.08685525]\n",
      "1243 [-67.41743762   6.21110704   0.33447417] [-67.6144141    6.0532488    0.29848213]\n",
      "1269 [-67.35544205  14.08552962   1.08819525] [-67.34694873  14.06859559   1.08277846]\n",
      "1357 [-72.26301173  12.15409934   0.18078006] [-72.36148555  12.10673018   0.18124084]\n",
      "1398 [-67.31337562  14.02721247   1.09442435] [-67.25429649  14.04499417   1.08648229]\n",
      "1630 [-72.47253888  12.02388659   0.15622963] [-72.54553953  11.99330636   0.1469525 ]\n",
      "1639 [-68.69365813   5.19127309   0.22049292] [-68.33825974   5.68932745   0.24190542]\n",
      "1788 [-67.68975627   6.00218463   0.3064033 ] [-67.79510709   5.8986358    0.28155001]\n",
      "1841 [-68.77114575   5.14005943   0.25536016] [-68.8866065    5.12533223   0.20272032]\n",
      "1849 [-67.83670166   5.84466775   0.27323997] [-68.12699259   5.65869767   0.26287753]\n"
     ]
    }
   ],
   "source": [
    "# 使用例\n",
    "directory = '/home/aichi2204/Documents/bkl2go/20240412-library2/minimini_1/sp_25/wall_merged'\n",
    "integers = extract_integers_from_filenames(directory)\n",
    "\n",
    "for l in integers:  \n",
    "    pcd_w  = o3d.io.read_point_cloud(\n",
    "        \"/home/aichi2204/Documents/bkl2go/20240412-library2/minimini_1/sp_25/wall_merged/{}.pcd\".format(l)\n",
    "        )\n",
    "    pcd_w_tree = o3d.geometry.KDTreeFlann(pcd_w)\n",
    "    edges = []\n",
    "    for p in pcd_g.points:\n",
    "        k, neighbor_idx, _ = pcd_w_tree.search_hybrid_vector_3d(\n",
    "            p ,0.02, 1)\n",
    "        if k >= 1:\n",
    "            edges.append(p)\n",
    "    if len(edges) <2:\n",
    "        continue\n",
    "    edges = np.array(edges)\n",
    "    pcd = o3d.geometry.PointCloud() \n",
    "    pcd.points = o3d.utility.Vector3dVector(edges)\n",
    "    o3d.io.write_point_cloud(\"/home/aichi2204/Documents/bkl2go/20240412-library2/minimini_1/sp_25/wall_merged/{}_edge.ply\".format(l), pcd)\n",
    "\n",
    "    # 3次元データの例\n",
    "    X = edges\n",
    "\n",
    "    # 平均を引く\n",
    "    mean = np.mean(X, axis=0)\n",
    "    X_c = X - mean\n",
    "\n",
    "    # 共分散行列を計算\n",
    "    C = np.cov(X_c.T)\n",
    "\n",
    "    # 固有値と固有ベクトルを計算\n",
    "    eigenvalues, eigenvectors = np.linalg.eig(C)\n",
    "\n",
    "    # 最大の固有値に対応する固有ベクトル\n",
    "    principal_component = eigenvectors[:, np.argmax(eigenvalues)]\n",
    "\n",
    "    # 直線の方程式\n",
    "    point_on_line = mean\n",
    "    direction = principal_component\n",
    "\n",
    "    # 各点を直線に射影する関数\n",
    "    def project_point_onto_line(point, line_point, line_dir):\n",
    "        return line_point + np.dot(point - line_point, line_dir) * line_dir\n",
    "\n",
    "    # 各点の射影位置を計算\n",
    "    projected_points = np.array([project_point_onto_line(p, point_on_line, direction) for p in X])\n",
    "\n",
    "    d_dot_d = np.dot(direction, direction)\n",
    "\n",
    "    def calculate_t(q, p, d):\n",
    "        return np.dot(q - p, d) / d_dot_d\n",
    "\n",
    "    t_values = np.array([calculate_t(q, point_on_line, direction) for q in projected_points])\n",
    "    point_far_1= projected_points[np.argmin(t_values)]\n",
    "    point_far_2 = projected_points[np.argmax(t_values)]\n",
    "\n",
    "    print(l, point_far_1,point_far_2)\n",
    "\n",
    "    line_set = o3d.geometry.LineSet()\n",
    "    line_set.points = o3d.utility.Vector3dVector(np.array([point_far_1,point_far_2]))\n",
    "    line_set.lines = o3d.utility.Vector2iVector(np.array([[0,1]]))\n",
    "    line_set.paint_uniform_color([1, 0, 0])\n",
    "    o3d.io.write_line_set(\"/home/aichi2204/Documents/bkl2go/20240412-library2/minimini_1/sp_25/wall_merged/{}_line.ply\".format(l), \n",
    "                          line_set)\n",
    "    # o3d.visualization.draw_geometries([line_set,pcd_w])"
   ]
  },
  {
   "cell_type": "markdown",
   "metadata": {},
   "source": [
    "75, 185, [-72.05469906  12.39532089   0.37688806] [-68.66289396   8.29641541   0.43524847]\n",
    "\n",
    "75, 61,  [-72.27247327  12.21088763   0.36600007] [-72.08606566  12.3553822    0.37108409]\n",
    "\n",
    "75, 130, [-68.87907923   8.13774736   0.42486485] [-68.68904212   8.28927063   0.43933543]\n",
    "\n",
    "75, 132, [-72.26375762  12.21722198   0.37063058] [-68.9091871    8.14556969   0.42639707]"
   ]
  },
  {
   "cell_type": "markdown",
   "metadata": {},
   "source": [
    "73\n",
    "2 [-69.77962737  10.10490788   0.80267984] [-69.84932937  10.23611661   0.80835588]\n",
    "\n",
    "42 [-71.74696955  12.65995692   0.76991916] [-71.58811889  12.78161598   0.78529111]\n",
    "\n",
    "110 [-68.25067965   8.73830064   0.84316038] [-69.35938232  10.07883337   0.82240456]\n",
    "\n",
    "118 [-70.77448274  11.36446183   0.79279789] [-71.7608559   12.54038849   0.77181453]\n",
    "\n",
    "330 [-71.59733861  12.77940178   0.78410218] [-71.091798    12.16301695   0.7906985 ]\n",
    "\n",
    "347 [-68.43590112   8.51478578   0.83452875] [-68.22480507   8.6717018    0.84130771]\n",
    "\n",
    "836 [-69.82937776  10.64806923   0.81255395] [-69.33970012  10.05327296   0.82184913]\n",
    "\n",
    "905 [-70.7653761   11.34448791   0.7928443 ] [-68.44336159   8.5347394    0.83097529]\n",
    "\n",
    "1041 [-69.85341181  10.6735566    0.80966516] [-71.04370133  12.11386012   0.7890005 ]\n",
    "\n",
    "1511 [-71.15334216  11.81172778   0.78401768] [-71.52307914  12.25388424   0.7745863 ]"
   ]
  },
  {
   "cell_type": "markdown",
   "metadata": {},
   "source": [
    "50\n",
    "42 [-72.03459241  12.37175497   0.56353611] [-71.83075934  12.58874586   0.57801318] \n",
    "\n",
    "185 [-72.03088331  12.40253394   0.57088157] [-68.74108561   8.4245429    0.62302238]\n",
    "\n",
    "318 [-71.82830697  12.58012385   0.57604733] [-70.35449093  10.8150416    0.60461236]\n",
    "\n",
    "324 [-70.33977448  10.79431644   0.60289425] [-68.49804696   8.5634516    0.63618582]\n",
    "\n",
    "622 [-68.64874575   8.32316134   0.63421174] [-68.44059955   8.49870398   0.63255699]"
   ]
  },
  {
   "cell_type": "code",
   "execution_count": 89,
   "metadata": {},
   "outputs": [
    {
     "data": {
      "text/plain": [
       "True"
      ]
     },
     "execution_count": 89,
     "metadata": {},
     "output_type": "execute_result"
    }
   ],
   "source": [
    "# 例として，簡単なLineSetを作成\n",
    "points = np.array([[0, 0, 0], [1, 0, 0], [1, 1, 0], [0, 1, 0]])\n",
    "lines = np.array([[0, 1], [1, 2], [2, 3], [3, 0]])\n",
    "\n",
    "# LineSetオブジェクトを作成\n",
    "line_set = o3d.geometry.LineSet()\n",
    "line_set.points = o3d.utility.Vector3dVector(points)\n",
    "line_set.lines = o3d.utility.Vector2iVector(lines)\n",
    "\n",
    "# 保存\n",
    "o3d.io.write_line_set(\"lineset.ply\", line_set)"
   ]
  },
  {
   "cell_type": "code",
   "execution_count": null,
   "metadata": {},
   "outputs": [],
   "source": []
  }
 ],
 "metadata": {
  "kernelspec": {
   "display_name": "cloud2mesh_tool",
   "language": "python",
   "name": "python3"
  },
  "language_info": {
   "codemirror_mode": {
    "name": "ipython",
    "version": 3
   },
   "file_extension": ".py",
   "mimetype": "text/x-python",
   "name": "python",
   "nbconvert_exporter": "python",
   "pygments_lexer": "ipython3",
   "version": "3.9.19"
  }
 },
 "nbformat": 4,
 "nbformat_minor": 2
}
