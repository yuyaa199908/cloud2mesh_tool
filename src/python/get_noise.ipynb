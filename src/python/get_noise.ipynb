{
 "cells": [
  {
   "cell_type": "code",
   "execution_count": 26,
   "metadata": {},
   "outputs": [],
   "source": [
    "import open3d as o3d\n",
    "import numpy as np\n",
    "import math\n",
    "import glob, os, re\n",
    "import networkx as nx\n",
    "import plotly.graph_objects as go\n",
    "import plotly.io as pio\n",
    "import matplotlib.pyplot as plt\n",
    "from sklearn.decomposition import PCA\n",
    "import pandas as pd\n",
    "import itertools\n",
    "from pyvis.network import Network"
   ]
  },
  {
   "cell_type": "code",
   "execution_count": 27,
   "metadata": {},
   "outputs": [],
   "source": [
    "# 対象フォルダのパスを指定\n",
    "folder_path = \"/home/aichi2204/Documents/bkl2go/20240412-library2/minimini_1/2\"\n",
    "#'/home/aichi2204/Documents/bkl2go/20240412-library2/aichi-20240412-library2_croped_mini_1/tmp'  # ここを対象フォルダのパスに置き換えてください\n",
    "# パターンにマッチするファイルをすべて取得\n",
    "file_pattern = os.path.join(folder_path, '[0-9]*.pcd')\n",
    "file_paths = glob.glob(file_pattern)"
   ]
  },
  {
   "cell_type": "code",
   "execution_count": 28,
   "metadata": {},
   "outputs": [],
   "source": [
    "pcd = o3d.io.read_point_cloud(file_paths[0])\n",
    "for i in range(1, len(file_paths)):\n",
    "    pcd_tmp  = o3d.io.read_point_cloud(file_paths[i])\n",
    "    pcd += pcd_tmp\n"
   ]
  },
  {
   "cell_type": "code",
   "execution_count": 29,
   "metadata": {},
   "outputs": [],
   "source": [
    "pcd_all = o3d.io.read_point_cloud(\"/home/aichi2204/Documents/bkl2go/20240412-library2/aichi-20240412-library2_croped_minimini_1.pcd\")"
   ]
  },
  {
   "cell_type": "code",
   "execution_count": 30,
   "metadata": {},
   "outputs": [],
   "source": [
    "pcd_point = np.array(pcd.points)\n",
    "# pcd_all_point = np.array(pcd_all.points)"
   ]
  },
  {
   "cell_type": "code",
   "execution_count": 31,
   "metadata": {},
   "outputs": [],
   "source": [
    "# pcd_all_color = np.array(pcd_all.colors)\n",
    "pcd_all_mask = np.zeros(len(pcd_all.points), dtype=bool)"
   ]
  },
  {
   "cell_type": "code",
   "execution_count": 32,
   "metadata": {},
   "outputs": [],
   "source": [
    "pcd_tree = o3d.geometry.KDTreeFlann(pcd)"
   ]
  },
  {
   "cell_type": "code",
   "execution_count": 33,
   "metadata": {},
   "outputs": [],
   "source": [
    "for idx in range(len(pcd_all_mask)):\n",
    "    k, neighbor_idx, _ = pcd_tree.search_radius_vector_3d(pcd_all.points[idx] ,0.000001)\n",
    "    if k == 0:\n",
    "        pcd_all_mask[idx] = True"
   ]
  },
  {
   "cell_type": "code",
   "execution_count": 34,
   "metadata": {},
   "outputs": [
    {
     "data": {
      "text/plain": [
       "array([      0,       1,       2, ..., 1928039, 1928041, 1928043])"
      ]
     },
     "execution_count": 34,
     "metadata": {},
     "output_type": "execute_result"
    }
   ],
   "source": [
    "pcd_all_idx = np.array([i for i in range(len(pcd_all_mask))])\n",
    "pcd_all_idx[pcd_all_mask]\n"
   ]
  },
  {
   "cell_type": "code",
   "execution_count": 35,
   "metadata": {},
   "outputs": [],
   "source": [
    "\n",
    "o3d.visualization.draw_geometries([\n",
    "    pcd_all.select_by_index(pcd_all_idx[pcd_all_mask])\n",
    "    ])"
   ]
  },
  {
   "cell_type": "code",
   "execution_count": 36,
   "metadata": {},
   "outputs": [
    {
     "data": {
      "text/plain": [
       "True"
      ]
     },
     "execution_count": 36,
     "metadata": {},
     "output_type": "execute_result"
    }
   ],
   "source": [
    "o3d.io.write_point_cloud(os.path.join(folder_path, 'noise.pcd'), pcd_all.select_by_index(pcd_all_idx[pcd_all_mask]))"
   ]
  },
  {
   "cell_type": "code",
   "execution_count": null,
   "metadata": {},
   "outputs": [],
   "source": []
  }
 ],
 "metadata": {
  "kernelspec": {
   "display_name": "cloud2mesh_tool",
   "language": "python",
   "name": "python3"
  },
  "language_info": {
   "codemirror_mode": {
    "name": "ipython",
    "version": 3
   },
   "file_extension": ".py",
   "mimetype": "text/x-python",
   "name": "python",
   "nbconvert_exporter": "python",
   "pygments_lexer": "ipython3",
   "version": "3.9.19"
  }
 },
 "nbformat": 4,
 "nbformat_minor": 2
}
