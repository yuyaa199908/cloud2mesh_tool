{
 "cells": [
  {
   "cell_type": "code",
   "execution_count": 8,
   "metadata": {},
   "outputs": [
    {
     "name": "stdout",
     "output_type": "stream",
     "text": [
      "Jupyter environment detected. Enabling Open3D WebVisualizer.\n",
      "[Open3D INFO] WebRTC GUI backend enabled.\n",
      "[Open3D INFO] WebRTCWindowSystem: HTTP handshake server disabled.\n"
     ]
    }
   ],
   "source": [
    "import numpy as np\n",
    "import open3d as o3d\n",
    "import copy\n",
    "import logging"
   ]
  },
  {
   "cell_type": "code",
   "execution_count": 9,
   "metadata": {},
   "outputs": [],
   "source": [
    "import numpy as np\n",
    "from numba import jit\n",
    "from scipy.spatial import ConvexHull\n",
    "from shapely.geometry import Polygon\n",
    "\n",
    "\n",
    "@jit(nopython=True, cache=True, parallel=True)\n",
    "def vector_angle(u, v=np.array([0., 0., 1.])):\n",
    "    \"\"\"\n",
    "    Returns the angle in degrees between vectors 'u' and 'v'. If only 'u' is\n",
    "    provided, the angle between 'u' and the vertical axis is returned.\n",
    "    \"\"\"\n",
    "    # see https://stackoverflow.com/a/2827466/425458\n",
    "    c = np.dot(u/np.linalg.norm(u), v/np.linalg.norm(v))\n",
    "    clip = np.minimum(1, np.maximum(c, -1))\n",
    "    return np.rad2deg(np.arccos(clip))\n",
    "\n",
    "\n",
    "@jit(nopython=True, cache=True, parallel=True)\n",
    "def get_octree_level(points, grid_size):\n",
    "    \"\"\"Compute nearest octree level based on a desired grid_size.\"\"\"\n",
    "    dims = np.zeros((points.shape[1],))\n",
    "    for d in range(points.shape[1]):\n",
    "        dims[d] = np.max(points[:, d]) - np.min(points[:, d])\n",
    "    max_dim = np.max(dims)\n",
    "    if max_dim < 0.001:\n",
    "        return 0\n",
    "    octree_level = np.rint(-np.log(grid_size / max_dim) / (np.log(2)))\n",
    "    if octree_level > 0:\n",
    "        return np.int64(octree_level)\n",
    "    return 1\n",
    "\n",
    "\n",
    "@jit(nopython=True, cache=True, parallel=True)\n",
    "def compute_bounding_box(points):\n",
    "    \"\"\"\n",
    "    Get the min/max values of a point list.\n",
    "\n",
    "    Parameters\n",
    "    ----------\n",
    "    points : array of shape (n_points, 2)\n",
    "        The (x, y) coordinates of the points. Any further dimensions will be\n",
    "        ignored.\n",
    "\n",
    "    Returns\n",
    "    -------\n",
    "    tuple\n",
    "        (x_min, y_min, x_max, y_max)\n",
    "    \"\"\"\n",
    "    x_min = np.min(points[:, 0])\n",
    "    x_max = np.max(points[:, 0])\n",
    "    y_min = np.min(points[:, 1])\n",
    "    y_max = np.max(points[:, 1])\n",
    "\n",
    "    return (x_min, y_min, x_max, y_max)\n",
    "\n",
    "\n",
    "def convex_hull_poly(points):\n",
    "    \"\"\"Return convex hull as a shapely Polygon.\"\"\"\n",
    "    return Polygon(points[ConvexHull(points, qhull_options='QJ').vertices])\n",
    "\n",
    "\n",
    "def minimum_bounding_rectangle(points):\n",
    "    \"\"\"\n",
    "    Find the smallest bounding rectangle for a set of points.\n",
    "    Returns a set of points representing the corners of the bounding box.\n",
    "\n",
    "    :param points: an nx2 matrix of coordinates\n",
    "    :rval: an nx2 matrix of coordinates\n",
    "    \"\"\"\n",
    "    pi2 = np.pi/2.\n",
    "\n",
    "    # get the convex hull for the points\n",
    "    hull_points = points[ConvexHull(points).vertices]\n",
    "\n",
    "    # calculate edge angles\n",
    "    edges = np.zeros((len(hull_points)-1, 2))\n",
    "    edges = hull_points[1:] - hull_points[:-1]\n",
    "\n",
    "    angles = np.zeros((len(edges)))\n",
    "    angles = np.arctan2(edges[:, 1], edges[:, 0])\n",
    "\n",
    "    angles = np.abs(np.mod(angles, pi2))\n",
    "    angles = np.unique(angles)\n",
    "\n",
    "    # find rotation matrices\n",
    "    rotations = np.vstack([\n",
    "        np.cos(angles),\n",
    "        np.cos(angles-pi2),\n",
    "        np.cos(angles+pi2),\n",
    "        np.cos(angles)]).T\n",
    "    rotations = rotations.reshape((-1, 2, 2))\n",
    "\n",
    "    # apply rotations to the hull\n",
    "    rot_points = np.dot(rotations, hull_points.T)\n",
    "\n",
    "    # find the bounding points\n",
    "    min_x = np.nanmin(rot_points[:, 0], axis=1)\n",
    "    max_x = np.nanmax(rot_points[:, 0], axis=1)電気電子情報工学科\n",
    "    # Calculate center point and project onto rotated frame\n",
    "    center_x = (x1 + x2) / 2\n",
    "    center_y = (y1 + y2) / 2\n",
    "    center_point = np.dot([center_x, center_y], r)\n",
    "\n",
    "    min_bounding_rect = np.zeros((4, 2))\n",
    "    min_bounding_rect[0] = np.dot([x1, y2], r)\n",
    "    min_bounding_rect[1] = np.dot([x2, y2], r)\n",
    "    min_bounding_rect[2] = np.dot([x2, y1], r)\n",
    "    min_bounding_rect[3] = np.dot([x1, y1], r)\n",
    "\n",
    "    # Compute the dims of the min bounding rectangle\n",
    "    dims = [(x1 - x2), (y1 - y2)]\n",
    "\n",
    "    return min_bounding_rect, hull_points, min(dims), max(dims), center_point\n"
   ]
  },
  {
   "cell_type": "code",
   "execution_count": 10,
   "metadata": {},
   "outputs": [],
   "source": [
    "pcd = o3d.io.read_point_cloud(\"/home/aichi2204/Documents/bkl2go/20240412-library2/aichi-20240412-library2_croped_minimini_1.pcd\")"
   ]
  },
  {
   "cell_type": "code",
   "execution_count": null,
   "metadata": {},
   "outputs": [],
   "source": []
  },
  {
   "cell_type": "code",
   "execution_count": 11,
   "metadata": {},
   "outputs": [],
   "source": [
    "las_labels = np.array([1,1,2,2,2,3,3,3,4,5,8])"
   ]
  },
  {
   "cell_type": "code",
   "execution_count": 12,
   "metadata": {},
   "outputs": [],
   "source": [
    "mask = np.ones((len(las_labels),), dtype=bool)"
   ]
  },
  {
   "cell_type": "code",
   "execution_count": 13,
   "metadata": {},
   "outputs": [
    {
     "data": {
      "text/plain": [
       "array([ True,  True, False, False, False,  True,  True,  True,  True,\n",
       "        True,  True])"
      ]
     },
     "execution_count": 13,
     "metadata": {},
     "output_type": "execute_result"
    }
   ],
   "source": [
    "mask = mask & (las_labels != 2)\n",
    "mask"
   ]
  },
  {
   "cell_type": "code",
   "execution_count": 14,
   "metadata": {},
   "outputs": [
    {
     "data": {
      "text/plain": [
       "array([7])"
      ]
     },
     "execution_count": 14,
     "metadata": {},
     "output_type": "execute_result"
    }
   ],
   "source": [
    "list_of_indices = np.where(las_labels[mask] == 8)[0]\n",
    "list_of_indices"
   ]
  },
  {
   "cell_type": "code",
   "execution_count": 15,
   "metadata": {},
   "outputs": [
    {
     "data": {
      "text/plain": [
       "array([ 0,  1,  5,  6,  7,  8,  9, 10])"
      ]
     },
     "execution_count": 15,
     "metadata": {},
     "output_type": "execute_result"
    }
   ],
   "source": [
    "mask_indices = np.where(mask)[0]\n",
    "mask_indices"
   ]
  },
  {
   "cell_type": "code",
   "execution_count": 16,
   "metadata": {},
   "outputs": [
    {
     "data": {
      "text/plain": [
       "array([False, False, False, False, False, False, False, False, False,\n",
       "       False, False])"
      ]
     },
     "execution_count": 16,
     "metadata": {},
     "output_type": "execute_result"
    }
   ],
   "source": [
    "label_mask = np.zeros(len(mask), dtype=bool)\n",
    "label_mask"
   ]
  },
  {
   "cell_type": "code",
   "execution_count": 72,
   "metadata": {},
   "outputs": [],
   "source": [
    "threshold_angle=30 #20\n",
    "threshold_curve=0.5 #1.0\n",
    "max_nn=50 #30\n",
    "grow_region_knn=50 #15\n",
    "grow_region_radius=0.2"
   ]
  },
  {
   "cell_type": "code",
   "execution_count": 73,
   "metadata": {},
   "outputs": [],
   "source": [
    "def _compute_point_curvature(coords, pcd_tree, seed_point, method):\n",
    "    \"\"\" Compute the curvature for a given a cluster of points. \"\"\"\n",
    "    if method == 'radius':\n",
    "        _, idx, _ = (pcd_tree.search_radius_vector_3d(\n",
    "                        seed_point, grow_region_radius))\n",
    "    else:\n",
    "        _, idx, _ = (pcd_tree.search_knn_vector_3d(\n",
    "                        seed_point, grow_region_knn))\n",
    "\n",
    "    neighbors = o3d.utility.Vector3dVector(coords[idx])\n",
    "    pcd = o3d.geometry.PointCloud(neighbors)\n",
    "    _, cov = pcd.compute_mean_and_covariance()\n",
    "    eig_val, _ = np.linalg.eig(cov)\n",
    "\n",
    "    return (eig_val[0]/(eig_val.sum()))"
   ]
  },
  {
   "cell_type": "code",
   "execution_count": null,
   "metadata": {},
   "outputs": [],
   "source": []
  },
  {
   "cell_type": "code",
   "execution_count": null,
   "metadata": {},
   "outputs": [],
   "source": [
    "\n"
   ]
  },
  {
   "cell_type": "code",
   "execution_count": 74,
   "metadata": {},
   "outputs": [],
   "source": [
    "# pcd_tree.search_radius_vector_3d(np.array([-70.3690, 12.577,1.001]),0.01)\n",
    "list_of_seed_ids = [1075605]"
   ]
  },
  {
   "cell_type": "code",
   "execution_count": 75,
   "metadata": {},
   "outputs": [],
   "source": [
    "region = copy.deepcopy(list_of_seed_ids)\n",
    "pcd_tree = o3d.geometry.KDTreeFlann(pcd)\n",
    "pcd.estimate_normals(\n",
    "            search_param=o3d.geometry.KDTreeSearchParamHybrid(\n",
    "                                            radius=grow_region_radius,\n",
    "                                            max_nn=max_nn))\n",
    "\n",
    "processed = np.full(len(pcd.points), False)\n",
    "processed[list_of_seed_ids] = True\n"
   ]
  },
  {
   "cell_type": "code",
   "execution_count": 76,
   "metadata": {},
   "outputs": [
    {
     "name": "stdout",
     "output_type": "stream",
     "text": [
      "1 0\n",
      "8 1\n",
      "9 2\n",
      "10 3\n",
      "13 4\n",
      "13 5\n",
      "13 6\n",
      "15 7\n",
      "15 8\n",
      "15 9\n",
      "21 10\n",
      "21 11\n",
      "21 12\n",
      "23 13\n",
      "24 14\n",
      "24 15\n",
      "35 16\n",
      "35 17\n",
      "37 18\n",
      "38 19\n",
      "39 20\n",
      "40 21\n",
      "42 22\n",
      "42 23\n",
      "42 24\n",
      "45 25\n",
      "45 26\n",
      "45 27\n",
      "45 28\n",
      "45 29\n",
      "45 30\n",
      "46 31\n",
      "46 32\n",
      "46 33\n",
      "46 34\n",
      "46 35\n",
      "46 36\n",
      "47 37\n",
      "47 38\n",
      "47 39\n",
      "49 40\n",
      "51 41\n",
      "51 42\n",
      "51 43\n",
      "51 44\n",
      "51 45\n",
      "51 46\n",
      "51 47\n",
      "52 48\n",
      "52 49\n",
      "52 50\n",
      "52 51\n",
      "53 52\n",
      "54 53\n",
      "58 54\n",
      "58 55\n",
      "63 56\n",
      "63 57\n",
      "64 58\n",
      "64 59\n",
      "73 60\n",
      "79 61\n",
      "86 62\n",
      "86 63\n",
      "86 64\n",
      "86 65\n",
      "86 66\n",
      "86 67\n",
      "86 68\n",
      "86 69\n",
      "86 70\n",
      "86 71\n",
      "86 72\n",
      "88 73\n",
      "88 74\n",
      "88 75\n",
      "88 76\n",
      "88 77\n",
      "88 78\n",
      "88 79\n",
      "88 80\n",
      "88 81\n",
      "88 82\n",
      "88 83\n",
      "88 84\n",
      "88 85\n",
      "88 86\n",
      "97 87\n",
      "97 88\n",
      "98 89\n",
      "98 90\n",
      "98 91\n",
      "98 92\n",
      "98 93\n",
      "98 94\n",
      "99 95\n",
      "99 96\n",
      "99 97\n",
      "100 98\n",
      "104 99\n",
      "105 100\n",
      "105 101\n",
      "105 102\n",
      "106 103\n",
      "106 104\n",
      "108 105\n",
      "109 106\n",
      "113 107\n",
      "113 108\n",
      "113 109\n",
      "116 110\n",
      "118 111\n",
      "121 112\n",
      "129 113\n",
      "131 114\n",
      "131 115\n",
      "131 116\n",
      "131 117\n",
      "131 118\n",
      "133 119\n",
      "133 120\n",
      "133 121\n",
      "133 122\n",
      "133 123\n",
      "133 124\n",
      "133 125\n",
      "134 126\n",
      "134 127\n",
      "134 128\n",
      "134 129\n",
      "134 130\n",
      "134 131\n",
      "139 132\n",
      "143 133\n",
      "143 134\n",
      "146 135\n",
      "146 136\n",
      "146 137\n",
      "146 138\n",
      "146 139\n",
      "150 140\n",
      "150 141\n",
      "150 142\n",
      "150 143\n",
      "150 144\n",
      "150 145\n",
      "150 146\n",
      "153 147\n",
      "154 148\n",
      "155 149\n",
      "156 150\n",
      "156 151\n",
      "156 152\n",
      "156 153\n",
      "156 154\n",
      "156 155\n",
      "[1075605, 1075607, 1075612, 1075622, 1075638, 1075623, 1075272, 1075253, 1075269, 1075714, 1075677, 1075665, 1075752, 1075321, 1075254, 1075765, 1075722, 1075766, 1075736, 1075761, 1075769, 1075772, 1075770, 1075327, 1075732, 1075733, 1075731, 1075738, 1075745, 1075743, 1075778, 1075742, 1075782, 1075744, 1075789, 1075775, 1075779, 1075749, 1075787, 1075790, 1075788, 1075792, 1075746, 1075747, 1075748, 1075794, 1075795, 1075945, 1075946, 1075939, 1075942, 1076042, 1076046, 1076094, 1076095, 1076035, 1076030, 1076028, 1076029, 1076038, 1075989, 1076020, 1076019, 1075919, 1076022, 1076023, 1076021, 1076025, 1076024, 1078279, 1076017, 1076011, 1078269, 1075996, 1075993, 1075994, 1075995, 1075997, 1075998, 1078267, 1076005, 1076006, 1076003, 1076002, 1076008, 1076000, 1078270, 1078272, 1078284, 1077924, 1077925, 1078285, 1077928, 1077929, 1077931, 1077932, 1077910, 1078293, 1078320, 1078332, 1078330, 1078331, 1077984, 1078342, 1078492, 1078493, 1078508, 1078507, 1078168, 1078171, 1078513, 1078170, 1078176, 1078237, 1078226, 1078227, 1078531, 1078242, 1078160, 1078163, 1078164, 1078239, 1078225, 1078230, 1078231, 1078238, 1078221, 1078165, 1078228, 1078234, 1078243, 1078185, 1078120, 1078253, 1078180, 1078118, 1078115, 1078116, 1078114, 1078102, 1078101, 1078112, 1078099, 1078178, 1078182, 1078183, 1077953, 1077954, 1077952, 1077951, 1077944, 1077942, 1077943, 1077903, 1077901, 1077902]\n",
      "[1075605, 1075606, 1075613, 1075618, 1075598, 1075601, 1075600, 1075608, 1075604, 1075619, 1075609, 1075607, 1075610, 1075620, 1075611, 1075597, 1075612, 1075595, 1075596, 1075602, 1075594, 1075603, 1075592, 1075590, 1075591, 1075593, 1075616, 1075698, 1075614, 1075615, 1075617, 1075589, 1075704, 1075621, 1075622, 1075588, 1075639, 1075638, 1075623, 1075272, 1075705, 1075637, 1075700, 1075699, 1075710, 1075255, 1075268, 1075253, 1075701, 1075711, 1075702, 1075273, 1075703, 1075274, 1075271, 1075323, 1075706, 1075270, 1075707, 1075324, 1075269, 1075709, 1075325, 1075322, 1075326, 1075712, 1075716, 1075715, 1075717, 1075713, 1075718, 1075719, 1075714, 1075708, 1075720, 1075677, 1075674, 1075750, 1075751, 1075665, 1075752, 1075754, 1075635, 1075753, 1075762, 1075640, 1075636, 1075627, 1075626, 1075624, 1075625, 1075599, 1074894, 1075630, 1074955, 1074953, 1075321, 1075254, 1075328, 1075330, 1075329, 1075250, 1074890, 1075251, 1075249, 1074426, 1074427, 1075252, 1074425, 1074889, 1075244, 1074424, 1075245, 1075247, 1075246, 1074422, 1074892, 1074891, 1074883, 1074421, 1074420, 1074888, 1074419, 1074416, 1074887, 1074886, 1075248, 1074418, 1075258, 1075261, 1075260, 1075262, 1075259, 1075256, 1075257, 1075320, 1075760, 1075763, 1075764, 1075765, 1075722, 1075721, 1075766, 1075736, 1075761, 1075769, 1075737, 1075734, 1075772, 1075770, 1075327, 1075331, 1075338, 1075337, 1075335, 1075724, 1075723, 1075725, 1075339, 1075336, 1075342, 1075340, 1075345, 1075346, 1075350, 1075319, 1075332, 1075341, 1075344, 1075265, 1075264, 1075267, 1074415, 1075732, 1075733, 1075731, 1075735, 1075730, 1075738, 1075728, 1075780, 1075727, 1075745, 1075743, 1075778, 1075742, 1075782, 1075783, 1075744, 1075789, 1075729, 1075775, 1075779, 1075777, 1075749, 1075784, 1075785, 1075787, 1075786, 1075790, 1075788, 1075791, 1075792, 1075347, 1075343, 1075333, 1075349, 1075348, 1075499, 1075317, 1075746, 1075747, 1075739, 1075748, 1075740, 1075894, 1075741, 1075931, 1075892, 1075893, 1075932, 1075896, 1075887, 1075895, 1075794, 1075793, 1075888, 1075890, 1075795, 1075891, 1075938, 1075944, 1075945, 1075946, 1075948, 1075840, 1075947, 1075939, 1075942, 1075956, 1075957, 1075889, 1075899, 1075726, 1075897, 1075900, 1075886, 1075898, 1076040, 1075952, 1075847, 1076041, 1075846, 1076042, 1075849, 1075953, 1075958, 1075959, 1075941, 1075954, 1075955, 1075914, 1075915, 1075916, 1075903, 1076047, 1076046, 1076048, 1076043, 1076044, 1076061, 1076072, 1076074, 1076075, 1076051, 1076073, 1076049, 1076050, 1076066, 1076055, 1076053, 1076067, 1076052, 1076065, 1075850, 1076064, 1076063, 1076054, 1076062, 1076086, 1076058, 1076057, 1076085, 1076087, 1076056, 1076083, 1076088, 1076060, 1075848, 1076059, 1075879, 1076084, 1076089, 1076090, 1076091, 1076092, 1076094, 1076093, 1076032, 1076033, 1076098, 1076034, 1076099, 1076100, 1076101, 1076102, 1076095, 1076104, 1076103, 1076097, 1076096, 1078371, 1078372, 1078374, 1078373, 1078375, 1078376, 1076031, 1078366, 1078368, 1078369, 1076035, 1078395, 1078370, 1078394, 1076030, 1076028, 1078367, 1078382, 1078380, 1078378, 1078381, 1078379, 1078377, 1078383, 1078397, 1078398, 1078396, 1078300, 1078384, 1078393, 1076036, 1076037, 1076029, 1076039, 1076038, 1076027, 1078298, 1075989, 1078301, 1078299, 1076013, 1078281, 1076015, 1078305, 1076012, 1076016, 1076014, 1075983, 1075982, 1078303, 1076018, 1076020, 1078304, 1076019, 1078306, 1075981, 1075919, 1078302, 1078283, 1078307, 1076022, 1076023, 1076021, 1078309, 1076025, 1078308, 1076024, 1078279, 1078316, 1076017, 1078278, 1078313, 1076011, 1078269, 1075977, 1075996, 1075978, 1075976, 1075974, 1075971, 1075972, 1075975, 1075979, 1075968, 1075967, 1075973, 1075980, 1075966, 1075964, 1075962, 1075961, 1075999, 1075993, 1075965, 1075994, 1075995, 1075997, 1075998, 1075960, 1075963, 1078267, 1076004, 1076005, 1076006, 1076001, 1075992, 1078268, 1076003, 1076002, 1076010, 1076008, 1078273, 1076009, 1076000, 1078263, 1078282, 1076007, 1075921, 1075911, 1075909, 1075925, 1075910, 1075908, 1075922, 1075924, 1075906, 1075923, 1075905, 1075912, 1075913, 1075907, 1075902, 1075901, 1075904, 1078264, 1078275, 1078266, 1078276, 1078274, 1078262, 1078277, 1078287, 1078286, 1078265, 1078291, 1078270, 1078296, 1078272, 1078288, 1077916, 1075970, 1075969, 1075991, 1075587, 1075579, 1077917, 1077911, 1077912, 1075586, 1078271, 1078284, 1077919, 1077920, 1077924, 1077925, 1077918, 1077914, 1078285, 1077915, 1077923, 1077928, 1077929, 1077926, 1077913, 1077931, 1078289, 1077932, 1077927, 1078290, 1077910, 1077930, 1078292, 1078294, 1077936, 1077934, 1077935, 1078293, 1078295, 1077933, 1077961, 1078322, 1078321, 1078323, 1078326, 1078324, 1077962, 1077963, 1078325, 1078320, 1077970, 1077905, 1077906, 1075585, 1075584, 1077904, 1077907, 1077908, 1078327, 1078333, 1078297, 1078310, 1078332, 1078315, 1078329, 1078330, 1078328, 1078331, 1077971, 1077972, 1078335, 1077973, 1077981, 1078338, 1078339, 1077957, 1078336, 1077965, 1077966, 1077984, 1077982, 1077983, 1077964, 1078342, 1078343, 1078341, 1078340, 1077994, 1077995, 1078334, 1078492, 1078344, 1077992, 1077993, 1077980, 1077967, 1077969, 1077990, 1077996, 1077991, 1078146, 1077986, 1077987, 1078147, 1078143, 1078149, 1077989, 1078495, 1077979, 1078144, 1077978, 1078493, 1077977, 1077985, 1077974, 1078494, 1078500, 1078496, 1078497, 1078498, 1078499, 1078345, 1078148, 1078151, 1078509, 1078145, 1078508, 1078507, 1078152, 1078501, 1078502, 1078168, 1078150, 1078169, 1078142, 1078504, 1078511, 1078510, 1078512, 1078171, 1078172, 1078177, 1078513, 1078174, 1078548, 1078175, 1078550, 1078167, 1078170, 1078176, 1078549, 1078173, 1078514, 1078235, 1078236, 1078551, 1078240, 1078515, 1078166, 1078516, 1078506, 1078140, 1078139, 1078132, 1078138, 1078141, 1078137, 1078128, 1078127, 1078131, 1078135, 1078134, 1078133, 1078159, 1078136, 1078130, 1078129, 1078153, 1078125, 1078223, 1078222, 1078154, 1078158, 1078155, 1078237, 1078226, 1078156, 1078161, 1078227, 1078552, 1078518, 1078553, 1078517, 1078555, 1078554, 1078556, 1078557, 1078505, 1078561, 1078560, 1078568, 1078241, 1078562, 1078503, 1078558, 1078531, 1078559, 1078256, 1078242, 1078157, 1078160, 1078163, 1078164, 1078162, 1078121, 1078239, 1078224, 1078225, 1078230, 1078231, 1078229, 1078238, 1078221, 1078165, 1078232, 1078233, 1078228, 1078234, 1078243, 1078244, 1078255, 1078247, 1078220, 1078188, 1078246, 1078194, 1078245, 1078193, 1078249, 1078543, 1078544, 1078541, 1078540, 1078539, 1078565, 1078566, 1078567, 1078534, 1078533, 1078570, 1078546, 1078573, 1078574, 1078545, 1078542, 1078571, 1078575, 1078576, 1078547, 1078532, 1078578, 1078577, 1078580, 1078569, 1078572, 1078526, 1078538, 1078527, 1078581, 1078537, 1078535, 1078525, 1078582, 1078536, 1078585, 1078588, 1078258, 1078259, 1078260, 1078261, 1078257, 1078855, 1078857, 1078856, 1078248, 1078122, 1078123, 1078124, 1078185, 1078186, 1078187, 1078184, 1078120, 1078119, 1078195, 1078189, 1078196, 1078250, 1078251, 1078252, 1078254, 1078253, 1078214, 1078190, 1078191, 1078847, 1078215, 1078848, 1078218, 1078219, 1078180, 1078192, 1078181, 1078117, 1078118, 1078213, 1078115, 1078116, 1078114, 1078111, 1078110, 1078109, 1078103, 1078106, 1078102, 1078101, 1078100, 1078112, 1078113, 1078097, 1078099, 1078105, 1078108, 1078104, 1078107, 1078849, 1078852, 1078859, 1078850, 1078853, 1078851, 1078854, 1078217, 1078216, 1078861, 1078829, 1078858, 1078860, 1078178, 1078179, 1078182, 1078183, 1078199, 1078201, 1078203, 1078197, 1078095, 1078098, 1078055, 1078054, 1078094, 1078093, 1078053, 1078200, 1078202, 1077946, 1077953, 1077954, 1077945, 1077952, 1077938, 1077951, 1077948, 1077949, 1077950, 1077947, 1078198, 1078211, 1078204, 1078212, 1078206, 1078207, 1078205, 1078210, 1078208, 1078209, 1078826, 1078751, 1078824, 1078827, 1078825, 1077944, 1077939, 1077942, 1077943, 1077941, 1077937, 1077975, 1078126, 1077940, 1077836, 1077976, 1077834, 1077903, 1077901, 1077832, 1077902, 1077858, 1077857, 1077896, 1077922, 1077827, 1077826, 1077894, 1077895, 1077828, 1077956, 1077829, 1077921, 1077898, 1077893, 1077955, 1077892, 1077886, 1077885, 1077899, 1077884, 1077883, 1077890, 1077897, 1077900, 1077880, 1077882, 1077909, 1077879, 1077881, 1077891, 1077889, 1077872, 1077871, 1077870, 1077869, 1077864, 1077860]\n"
     ]
    }
   ],
   "source": [
    "\n",
    "method = \"knn\"\n",
    "idx = 0\n",
    "while idx < len(list_of_seed_ids):\n",
    "    print(len(list_of_seed_ids), idx)\n",
    "    seed_point = pcd.points[list_of_seed_ids[idx]]\n",
    "    seed_normal = pcd.normals[list_of_seed_ids[idx]]\n",
    "\n",
    "    # For every seed point, the algorithm finds its neighboring points\n",
    "    if method == 'radius':\n",
    "        k, neighbor_idx, _ = (pcd_tree.search_radius_vector_3d(\n",
    "                                seed_point, grow_region_radius))\n",
    "    else:\n",
    "        k, neighbor_idx, _ = (pcd_tree.search_knn_vector_3d(\n",
    "                                seed_point,grow_region_knn))\n",
    "\n",
    "    # Remove index seed point itself\n",
    "    neighbor_idx = neighbor_idx[1:k]\n",
    "\n",
    "    for neighbor_id in neighbor_idx:\n",
    "        # Is this point processed before?\n",
    "        if processed[neighbor_id]:\n",
    "            continue\n",
    "\n",
    "        # Compute angles between two n-dimensional vectors\n",
    "        current_angle = vector_angle(seed_normal,\n",
    "                                        pcd.normals[neighbor_id])\n",
    "        # The smoothness constraint in degrees\n",
    "        if current_angle < threshold_angle:\n",
    "            region.append(neighbor_id)\n",
    "            processed[neighbor_id] = True\n",
    "\n",
    "            # Compute the curvature for a neighbor_id and its neighbors\n",
    "            curvature = (_compute_point_curvature(\n",
    "                            np.asarray(pcd.points), pcd_tree,\n",
    "                            pcd.points[neighbor_id], method))\n",
    "\n",
    "            # Result is below threshold, we add it to the seed points\n",
    "            if curvature < threshold_curve:\n",
    "                list_of_seed_ids.append(neighbor_id)\n",
    "\n",
    "    idx = idx+1\n",
    "print(list_of_seed_ids)\n",
    "print(region)\n"
   ]
  },
  {
   "cell_type": "code",
   "execution_count": 79,
   "metadata": {},
   "outputs": [],
   "source": [
    "o3d.visualization.draw_geometries([pcd.select_by_index(region)])"
   ]
  },
  {
   "cell_type": "code",
   "execution_count": 80,
   "metadata": {},
   "outputs": [
    {
     "data": {
      "text/plain": [
       "PointCloud with 914 points."
      ]
     },
     "execution_count": 80,
     "metadata": {},
     "output_type": "execute_result"
    }
   ],
   "source": [
    "pcd.select_by_index(region)"
   ]
  },
  {
   "cell_type": "code",
   "execution_count": null,
   "metadata": {},
   "outputs": [],
   "source": []
  }
 ],
 "metadata": {
  "kernelspec": {
   "display_name": "cloud2mesh_tool",
   "language": "python",
   "name": "python3"
  },
  "language_info": {
   "codemirror_mode": {
    "name": "ipython",
    "version": 3
   },
   "file_extension": ".py",
   "mimetype": "text/x-python",
   "name": "python",
   "nbconvert_exporter": "python",
   "pygments_lexer": "ipython3",
   "version": "3.9.19"
  }
 },
 "nbformat": 4,
 "nbformat_minor": 2
}
