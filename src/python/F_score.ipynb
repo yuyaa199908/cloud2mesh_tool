{
 "cells": [
  {
   "cell_type": "code",
   "execution_count": 2,
   "metadata": {},
   "outputs": [
    {
     "name": "stdout",
     "output_type": "stream",
     "text": [
      "Jupyter environment detected. Enabling Open3D WebVisualizer.\n",
      "[Open3D INFO] WebRTC GUI backend enabled.\n",
      "[Open3D INFO] WebRTCWindowSystem: HTTP handshake server disabled.\n"
     ]
    }
   ],
   "source": [
    "import numpy as np\n",
    "from scipy.spatial import KDTree\n",
    "import open3d as o3d"
   ]
  },
  {
   "cell_type": "code",
   "execution_count": null,
   "metadata": {},
   "outputs": [],
   "source": [
    "def compute_tp_fp_fn(point_cloud_A, point_cloud_B, threshold):\n",
    "    # KDTreeを用いて点群の最近傍探索を効率的に行う\n",
    "    tree_A = KDTree(point_cloud_A)\n",
    "    tree_B = KDTree(point_cloud_B)\n",
    "    \n",
    "    # 点群Bの各点に対して、点群Aの最も近い点までの距離を計算\n",
    "    distances_B_to_A, _ = tree_A.query(point_cloud_B)\n",
    "    true_positive_B = distances_B_to_A < threshold  # TP条件: しきい値内の一致\n",
    "\n",
    "    # 点群Aの各点に対して、点群Bの最も近い点までの距離を計算\n",
    "    distances_A_to_B, _ = tree_B.query(point_cloud_A)\n",
    "    false_negative_A = distances_A_to_B >= threshold  # FN条件: 対応する点が見つからない\n",
    "    \n",
    "    # TP: 点群Bの中でしきい値内で点群Aと一致した点の数\n",
    "    TP = np.sum(true_positive_B)\n",
    "\n",
    "    # FP: 点群Bにあるが点群Aには対応する点がないと判断された点の数\n",
    "    FP = len(point_cloud_B) - TP\n",
    "\n",
    "    # FN: 点群Aにあるが点群Bには対応する点が見つからない点の数\n",
    "    FN = np.sum(false_negative_A)\n",
    "\n",
    "    return TP, FP, FN"
   ]
  },
  {
   "cell_type": "code",
   "execution_count": 45,
   "metadata": {},
   "outputs": [],
   "source": [
    "pcd_gt1 = o3d.io.read_point_cloud(\"/home/aichi2204/Desktop/gt_1.pcd\")\n",
    "pcd_gt2 = o3d.io.read_point_cloud(\"/home/aichi2204/Desktop/gt_2.pcd\")\n",
    "pcd_gt3 = o3d.io.read_point_cloud(\"/home/aichi2204/Desktop/gt_3.pcd\")\n",
    "pcd_gt4 = o3d.io.read_point_cloud(\"/home/aichi2204/Desktop/gt_4.pcd\")\n",
    "pcd_gt = pcd_gt1+pcd_gt2+pcd_gt3+pcd_gt4\n",
    "points_gt = np.asarray(pcd_gt.points)\n",
    "\n",
    "# pcd_res1 = o3d.io.read_point_cloud(\"/home/aichi2204/Documents/bkl2go/20240412-library2/minimini_1/sp_25/ground_merged.pcd\")\n",
    "# pcd_res2 = o3d.io.read_point_cloud(\"/home/aichi2204/Documents/bkl2go/20240412-library2/minimini_1/sp_75/ground_merged.pcd\")\n",
    "# pcd_res3 = o3d.io.read_point_cloud(\"/home/aichi2204/Documents/bkl2go/20240412-library2/minimini_1/sp_50/ground_merged.pcd\")\n",
    "# pcd_res4 = o3d.io.read_point_cloud(\"/home/aichi2204/Documents/bkl2go/20240412-library2/minimini_1/sp_73/ground_merged.pcd\")\n",
    "# pcd_res = pcd_res1+pcd_res2+pcd_res3+pcd_res4\n",
    "# points_res = np.asarray(pcd_res.points)\n",
    "\n",
    "pcd_res = o3d.io.read_point_cloud(\"/home/aichi2204/Desktop/hikaku_true.pcd\")\n",
    "points_res = np.asarray(pcd_res.points)"
   ]
  },
  {
   "cell_type": "code",
   "execution_count": 46,
   "metadata": {},
   "outputs": [
    {
     "name": "stdout",
     "output_type": "stream",
     "text": [
      "TP: 782768, FP: 301222, FN: 10534\n",
      "Precision: 0.722, Recall: 0.987, F1 Score: 0.834\n"
     ]
    }
   ],
   "source": [
    "\n",
    "# 距離しきい値\n",
    "distance_threshold = 0.0000001\n",
    "\n",
    "# 点群Aと点群Bを用意 (N x 3 の NumPy 配列)\n",
    "# 例:\n",
    "# point_cloud_A = np.array([[x1, y1, z1], [x2, y2, z2], ...])\n",
    "# point_cloud_B = np.array([[x1', y1', z1'], [x2', y2', z2'], ...])\n",
    "\n",
    "\n",
    "# 実際の計算\n",
    "TP, FP, FN = compute_tp_fp_fn(points_gt, points_res, distance_threshold)\n",
    "\n",
    "# Precision, Recall, F1 Scoreを計算\n",
    "precision = TP / (TP + FP) if (TP + FP) > 0 else 0.0\n",
    "recall = TP / (TP + FN) if (TP + FN) > 0 else 0.0\n",
    "f1 = 2 * (precision * recall) / (precision + recall) if (precision + recall) > 0 else 0.0\n",
    "\n",
    "print(f\"TP: {TP}, FP: {FP}, FN: {FN}\")\n",
    "print(f\"Precision: {precision:.3f}, Recall: {recall:.3f}, F1 Score: {f1:.3f}\")"
   ]
  },
  {
   "cell_type": "code",
   "execution_count": null,
   "metadata": {},
   "outputs": [],
   "source": [
    "72.2 & 98.7 & 83.4 \\\\"
   ]
  },
  {
   "cell_type": "markdown",
   "metadata": {},
   "source": [
    "\n",
    "\\begin{tabular}{l|lllll|l|l}\n",
    "\\hline\n",
    "    & \\multicolumn{5}{l|}{提案手法}        & CSF (True) & CSF (False) \\\\ \\hline\n",
    "    & 路面1  & 路面2  & 路面3  & 路面4  & 全体   & 全体                            & 全体                                                                           \\\\ \\hline\n",
    "適合率 & 99.2 & 98.1 & 96.3 & 93.6 & 98.8 & 77.1                          & 72.2                                                                         \\\\\n",
    "再現率 & 99.6 & 99.2 & 97.8 & 99.9 & 99.5 & 95.2                          & 98.7                                                                         \\\\\n",
    "F値  & 99.4 & 98.6 & 97.1 & 96.7 & 99.2 & 85.2                          & 83.4                                                                         \\\\ \\hline\n",
    "\\end{tabular}\n"
   ]
  },
  {
   "cell_type": "code",
   "execution_count": null,
   "metadata": {},
   "outputs": [],
   "source": []
  },
  {
   "cell_type": "code",
   "execution_count": null,
   "metadata": {},
   "outputs": [],
   "source": []
  }
 ],
 "metadata": {
  "kernelspec": {
   "display_name": "cloud2mesh_tool",
   "language": "python",
   "name": "python3"
  },
  "language_info": {
   "codemirror_mode": {
    "name": "ipython",
    "version": 3
   },
   "file_extension": ".py",
   "mimetype": "text/x-python",
   "name": "python",
   "nbconvert_exporter": "python",
   "pygments_lexer": "ipython3",
   "version": "3.9.19"
  }
 },
 "nbformat": 4,
 "nbformat_minor": 2
}
