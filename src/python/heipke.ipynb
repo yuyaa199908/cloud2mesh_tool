{
 "cells": [
  {
   "cell_type": "code",
   "execution_count": 156,
   "metadata": {},
   "outputs": [],
   "source": [
    "import open3d as o3d\n",
    "import numpy as np\n",
    "import math\n",
    "import glob, os, re\n",
    "import networkx as nx\n",
    "import plotly.graph_objects as go\n",
    "import plotly.io as pio\n",
    "import matplotlib.pyplot as plt\n",
    "from sklearn.decomposition import PCA\n",
    "import pandas as pd\n",
    "import itertools\n",
    "from pyvis.network import Network\n",
    "from collections import deque\n",
    "import matplotlib.pyplot as plt\n",
    "from shapely.geometry import LineString, MultiLineString, MultiPolygon\n",
    "from shapely.ops import unary_union\n",
    "from shapely.affinity import translate\n",
    "import trimesh\n"
   ]
  },
  {
   "cell_type": "code",
   "execution_count": 169,
   "metadata": {},
   "outputs": [],
   "source": [
    "# mesh = trimesh.load('/home/aichi2204/Documents/bkl2go/20240412-library2/minimini_1/gt1_1.obj')\n"
   ]
  },
  {
   "cell_type": "code",
   "execution_count": 170,
   "metadata": {},
   "outputs": [
    {
     "data": {
      "text/plain": [
       "[\"# Blender v3.0.1 OBJ File: ''\\n\",\n",
       " '# www.blender.org\\n',\n",
       " 'mtllib gt1_1.mtl\\n',\n",
       " 'o gt1_1\\n',\n",
       " 'v -73.748001 11.019000 0.036000\\n',\n",
       " 'v -72.526436 12.030313 0.151719\\n',\n",
       " 'v -72.513000 12.011000 0.170000\\n',\n",
       " 'v -72.291000 12.206000 0.187630\\n',\n",
       " 'v -68.901001 8.124000 0.241236\\n',\n",
       " 'v -69.161377 7.903985 0.230535\\n',\n",
       " 'v -69.025490 7.748147 0.241000\\n',\n",
       " 'v -67.395134 9.090528 0.319446\\n',\n",
       " 'v -66.256165 7.712245 0.327337\\n',\n",
       " 'v -66.392975 7.587253 0.371000\\n',\n",
       " 'v -62.567181 2.956474 0.742791\\n',\n",
       " 'v -62.263897 3.220000 0.759171\\n',\n",
       " 'v -67.372055 9.389579 1.072235\\n',\n",
       " 'v -68.199699 8.701752 1.047268\\n',\n",
       " 'v -71.585808 12.794614 0.981318\\n',\n",
       " 'v -69.762062 14.331565 1.022284\\n',\n",
       " 'l 1 2\\n',\n",
       " 'l 2 3\\n',\n",
       " 'l 3 4\\n',\n",
       " 'l 4 5\\n',\n",
       " 'l 5 6\\n',\n",
       " 'l 6 7\\n',\n",
       " 'l 7 8\\n',\n",
       " 'l 8 9\\n',\n",
       " 'l 9 10\\n',\n",
       " 'l 10 11\\n',\n",
       " 'l 11 12\\n',\n",
       " 'l 12 13\\n',\n",
       " 'l 13 14\\n',\n",
       " 'l 14 15\\n',\n",
       " 'l 15 16\\n']"
      ]
     },
     "execution_count": 170,
     "metadata": {},
     "output_type": "execute_result"
    }
   ],
   "source": [
    "lines"
   ]
  },
  {
   "cell_type": "code",
   "execution_count": 173,
   "metadata": {},
   "outputs": [],
   "source": [
    "def obj2LineString(input_path):\n",
    "    with open(input_path, 'r') as file:\n",
    "        lines = file.readlines()\n",
    "\n",
    "    # 頂点と辺のリストを初期化\n",
    "    vertices = []\n",
    "    edges = []\n",
    "\n",
    "    # ファイルの各行を処理\n",
    "    for line in lines:\n",
    "        parts = line.split()\n",
    "        if parts[0] == 'v':  # 頂点の処理\n",
    "            vertices.append([float(parts[1]), float(parts[2]), float(parts[3])])\n",
    "        elif parts[0] == 'l':  # 辺の処理\n",
    "            edge = [int(index) - 1 for index in parts[1:]]  # OBJのインデックスは1から始まるため0に調整\n",
    "            edges.extend([(edge[i], edge[i+1]) for i in range(len(edge)-1)])\n",
    "\n",
    "    # NumPy配列に変換\n",
    "    vertices = np.array(vertices)\n",
    "    # 辺の配列に変換\n",
    "    edges = np.array(edges)\n",
    "\n",
    "    tmp = []\n",
    "    for e in edges:\n",
    "        tmp.append([[vertices[e[0],0],vertices[e[0],1]],\n",
    "                    [vertices[e[1],0],vertices[e[1],1]]])\n",
    "\n",
    "    return MultiLineString(tmp)"
   ]
  },
  {
   "cell_type": "code",
   "execution_count": 253,
   "metadata": {},
   "outputs": [],
   "source": [
    "def heipke_evaluation(gt_line:LineString, ex_line:LineString, buffer_distance:float):\n",
    "    gt_buffer = gt_line.buffer(buffer_distance)\n",
    "    ex_buffer = ex_line.buffer(buffer_distance)\n",
    "\n",
    "    # gt_buffer = unary_union(gt_buffer)\n",
    "\n",
    "    TP = ex_line.intersection(gt_buffer).length\n",
    "    FP = ex_line.length - TP\n",
    "    TN = gt_line.intersection(ex_buffer).length\n",
    "    FN = gt_line.length - TN\n",
    "    # print(TP,FP,TN,FN)\n",
    "    completeness = TP/(TP+FN)\n",
    "    correctness = TP/(TP+FP)\n",
    "    quality = TP/(TP+FP+FN)\n",
    "    return np.array([TP,FP,TN,FN, completeness, correctness, quality])"
   ]
  },
  {
   "cell_type": "code",
   "execution_count": 302,
   "metadata": {},
   "outputs": [
    {
     "name": "stdout",
     "output_type": "stream",
     "text": [
      "0.9605780001781696\n",
      "0.9914915978612051\n",
      "0.9527245774561354\n"
     ]
    }
   ],
   "source": [
    "data = []\n",
    "for i in ([1,2,3,4]):\n",
    "    gt_line = obj2LineString(\"/home/aichi2204/Documents/bkl2go/20240412-library2/minimini_1/gt{}.obj\".format(i))\n",
    "    ex_line = obj2LineString(\"/home/aichi2204/Documents/bkl2go/20240412-library2/minimini_1/ex{}.obj\".format(i))\n",
    "    res = heipke_evaluation(gt_line, ex_line,0.1)\n",
    "    data.append(res)\n",
    "data = np.array(data)\n",
    "tp,fp,fn = np.mean(data, axis=0)[[0,1,3]]\n",
    "print(tp/(tp+fn))\n",
    "print(tp/(tp+fp))\n",
    "print(tp/(tp+fp+fn))"
   ]
  },
  {
   "cell_type": "code",
   "execution_count": 295,
   "metadata": {},
   "outputs": [
    {
     "data": {
      "text/plain": [
       "array([[0.85963608, 0.9489931 , 0.82167149],\n",
       "       [1.        , 1.        , 1.        ],\n",
       "       [0.96871896, 0.97292697, 0.94329165],\n",
       "       [0.99737398, 1.        , 0.99737398]])"
      ]
     },
     "execution_count": 295,
     "metadata": {},
     "output_type": "execute_result"
    }
   ],
   "source": [
    "data[:,4:]"
   ]
  },
  {
   "cell_type": "code",
   "execution_count": 291,
   "metadata": {},
   "outputs": [
    {
     "name": "stdout",
     "output_type": "stream",
     "text": [
      "0.9033981411253299\n",
      "0.9641515438216761\n",
      "0.8740395354028387\n"
     ]
    }
   ],
   "source": []
  },
  {
   "cell_type": "code",
   "execution_count": null,
   "metadata": {},
   "outputs": [],
   "source": []
  },
  {
   "cell_type": "code",
   "execution_count": null,
   "metadata": {},
   "outputs": [],
   "source": []
  },
  {
   "cell_type": "code",
   "execution_count": null,
   "metadata": {},
   "outputs": [],
   "source": []
  },
  {
   "cell_type": "code",
   "execution_count": 150,
   "metadata": {},
   "outputs": [
    {
     "data": {
      "image/png": "[encoded data removed]",
      "text/plain": [
       "<Figure size 640x480 with 1 Axes>"
      ]
     },
     "metadata": {},
     "output_type": "display_data"
    }
   ],
   "source": [
    "fig, ax = plt.subplots()\n",
    "for line in gt_line.geoms:\n",
    "    ax.plot(line.xy[0], line.xy[1], label='gt', color='yellow') \n",
    "for buffer in gt_buffer.geoms:\n",
    "    ax.fill(buffer.exterior.xy[0], buffer.exterior.xy[1], alpha=0.3, label='Ground Truth Buffer', color='yellow')\n",
    "# ax.fill(gt_buffer.exterior.xy[0], gt_buffer.exterior.xy[1], alpha=0.3, label='Ground Truth Buffer', color='blue')\n",
    "\n",
    "# ax.plot(ex_line.xy[0], ex_line.xy[1], label='ex', color='blue')\n",
    "for line in ex_line.geoms:\n",
    "    ax.plot(line.xy[0], line.xy[1], label='ex', color='blue') "
   ]
  },
  {
   "cell_type": "code",
   "execution_count": 115,
   "metadata": {},
   "outputs": [],
   "source": [
    "\n",
    "# MultiLineStringの作成\n",
    "l = MultiLineString([\n",
    "    [[0, 0], [1, 0]], \n",
    "    [[1, 0], [2, 0]]\n",
    "])\n",
    "\n",
    "# バッファの作成\n",
    "b = l.buffer(0.5)\n",
    "line = LineString([[1, 0], [1, 1]])"
   ]
  },
  {
   "cell_type": "code",
   "execution_count": 116,
   "metadata": {},
   "outputs": [
    {
     "name": "stdout",
     "output_type": "stream",
     "text": [
      "交差部分の長さ: 0.5\n"
     ]
    }
   ],
   "source": [
    "# 交差部分を計算\n",
    "intersection = b.intersection(line)\n",
    "\n",
    "# 交差部分の長さを計算\n",
    "intersection_length = intersection.length\n",
    "\n",
    "print(f\"交差部分の長さ: {intersection_length}\")"
   ]
  },
  {
   "cell_type": "code",
   "execution_count": 124,
   "metadata": {},
   "outputs": [
    {
     "name": "stdout",
     "output_type": "stream",
     "text": [
      "LINESTRING (1 0, 1 0.5)\n"
     ]
    }
   ],
   "source": [
    "print(intersection)"
   ]
  },
  {
   "cell_type": "code",
   "execution_count": null,
   "metadata": {},
   "outputs": [],
   "source": []
  }
 ],
 "metadata": {
  "kernelspec": {
   "display_name": "cloud2mesh_tool",
   "language": "python",
   "name": "python3"
  },
  "language_info": {
   "codemirror_mode": {
    "name": "ipython",
    "version": 3
   },
   "file_extension": ".py",
   "mimetype": "text/x-python",
   "name": "python",
   "nbconvert_exporter": "python",
   "pygments_lexer": "ipython3",
   "version": "3.9.19"
  }
 },
 "nbformat": 4,
 "nbformat_minor": 2
}
