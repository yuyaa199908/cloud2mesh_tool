{
 "cells": [
  {
   "cell_type": "code",
   "execution_count": 12,
   "metadata": {},
   "outputs": [],
   "source": [
    "import open3d as o3d\n",
    "import numpy as np\n",
    "import math\n",
    "import glob, os, re\n",
    "import networkx as nx\n",
    "import plotly.graph_objects as go\n",
    "import plotly.io as pio\n",
    "import matplotlib.pyplot as plt\n",
    "from sklearn.decomposition import PCA\n",
    "import pandas as pd\n",
    "import itertools\n",
    "from pyvis.network import Network"
   ]
  },
  {
   "cell_type": "code",
   "execution_count": 13,
   "metadata": {},
   "outputs": [],
   "source": [
    "# 対象フォルダのパスを指定\n",
    "folder_path = \"/home/aichi2204/Documents/bkl2go/20240412-library2/minimini_1/2\"\n",
    "#'/home/aichi2204/Documents/bkl2go/20240412-library2/aichi-20240412-library2_croped_mini_1/tmp'  # ここを対象フォルダのパスに置き換えてください\n",
    "# パターンにマッチするファイルをすべて取得\n",
    "file_pattern = os.path.join(folder_path, '[0-9]*.pcd')\n",
    "file_paths = glob.glob(file_pattern)"
   ]
  },
  {
   "cell_type": "code",
   "execution_count": 14,
   "metadata": {},
   "outputs": [],
   "source": [
    "pattern = r\"/(\\d+)\\.pcd\"\n",
    "\n",
    "pcd = o3d.io.read_point_cloud(file_paths[0])\n",
    "l = int(re.search(pattern, file_paths[0]).group(1))\n",
    "pcd_label = [l] * len(pcd.points)\n",
    "# pcd_idx = np.array([i for i in range(len(pcd.points))])\n",
    "\n",
    "for i in range(1, len(file_paths)):\n",
    "    pcd_tmp  = o3d.io.read_point_cloud(file_paths[i])\n",
    "    l = int(re.search(pattern, file_paths[i]).group(1))\n",
    "\n",
    "    pcd += pcd_tmp\n",
    "    pcd_label += [l] * len(pcd_tmp.points)\n",
    "\n",
    "pcd_label = np.array(pcd_label)\n",
    "pcd_idx = np.array([i for i in range(len(pcd.points))])"
   ]
  },
  {
   "cell_type": "code",
   "execution_count": 15,
   "metadata": {},
   "outputs": [],
   "source": [
    "pcd_noise = o3d.io.read_point_cloud( os.path.join(folder_path, 'noise.pcd'))\n",
    "pcd_noise_label = np.full(len(pcd_noise.points),-1)\n",
    "pcd_noise_idx = np.array([i for i in range(len(pcd_noise.points))])"
   ]
  },
  {
   "cell_type": "code",
   "execution_count": 16,
   "metadata": {},
   "outputs": [],
   "source": [
    "pcd_tree = o3d.geometry.KDTreeFlann(pcd)"
   ]
  },
  {
   "cell_type": "code",
   "execution_count": 17,
   "metadata": {},
   "outputs": [
    {
     "name": "stderr",
     "output_type": "stream",
     "text": [
      "/tmp/ipykernel_18208/533084165.py:4: DeprecationWarning: Conversion of an array with ndim > 0 to a scalar is deprecated, and will error in future. Ensure you extract a single element from your array before performing this operation. (Deprecated NumPy 1.25.)\n",
      "  pcd_noise_label[noise_idx] = pcd_label[neighbor_idx]\n"
     ]
    }
   ],
   "source": [
    "for noise_idx in pcd_noise_idx:\n",
    "    k, neighbor_idx, _ = pcd_tree.search_hybrid_vector_3d(pcd_noise.points[noise_idx] ,0.02, 1)\n",
    "    if k > 0:\n",
    "        pcd_noise_label[noise_idx] = pcd_label[neighbor_idx]\n"
   ]
  },
  {
   "cell_type": "code",
   "execution_count": 10,
   "metadata": {},
   "outputs": [],
   "source": [
    "pcd_noise_1 = pcd_noise.select_by_index(pcd_noise_idx[pcd_noise_label!= -1])\n",
    "pcd_noise_2 = pcd_noise.select_by_index(pcd_noise_idx[pcd_noise_label== -1])\n",
    "pcd_noise_2.colors = o3d.utility.Vector3dVector(\n",
    "    np.tile(np.array([0,1,0]), (len(pcd_noise_2.colors), 1))\n",
    "    )\n",
    "pcd_noise_1.colors = o3d.utility.Vector3dVector(\n",
    "    np.tile(np.array([0,0,1]), (len(pcd_noise_1.colors), 1))\n",
    "    )\n",
    "o3d.visualization.draw_geometries([\n",
    "    pcd, pcd_noise_1, pcd_noise_2\n",
    "    ])"
   ]
  },
  {
   "cell_type": "code",
   "execution_count": 18,
   "metadata": {},
   "outputs": [],
   "source": [
    "for noise_idx in pcd_noise_idx[pcd_noise_label!= -1]:\n",
    "    pcd.points.extend(o3d.utility.Vector3dVector(pcd_noise.points[noise_idx].reshape((-1,3))))\n",
    "    pcd.colors.extend(o3d.utility.Vector3dVector(pcd_noise.colors[noise_idx].reshape((-1,3))))\n",
    "    # pcd.colors.extend(o3d.utility.Vector3dVector(np.array([[0,0,1]])))\n",
    "    pcd_idx = np.append(pcd_idx, len(pcd_idx))\n",
    "    pcd_label= np.append(pcd_label , pcd_noise_label[noise_idx])"
   ]
  },
  {
   "cell_type": "code",
   "execution_count": 46,
   "metadata": {},
   "outputs": [],
   "source": [
    "o3d.visualization.draw_geometries([\n",
    "    pcd\n",
    "    ])"
   ]
  },
  {
   "cell_type": "code",
   "execution_count": null,
   "metadata": {},
   "outputs": [],
   "source": []
  },
  {
   "cell_type": "code",
   "execution_count": null,
   "metadata": {},
   "outputs": [],
   "source": []
  }
 ],
 "metadata": {
  "kernelspec": {
   "display_name": "cloud2mesh_tool",
   "language": "python",
   "name": "python3"
  },
  "language_info": {
   "codemirror_mode": {
    "name": "ipython",
    "version": 3
   },
   "file_extension": ".py",
   "mimetype": "text/x-python",
   "name": "python",
   "nbconvert_exporter": "python",
   "pygments_lexer": "ipython3",
   "version": "3.9.19"
  }
 },
 "nbformat": 4,
 "nbformat_minor": 2
}
