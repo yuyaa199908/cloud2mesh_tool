{
 "cells": [
  {
   "cell_type": "code",
   "execution_count": 1,
   "metadata": {},
   "outputs": [
    {
     "name": "stdout",
     "output_type": "stream",
     "text": [
      "Jupyter environment detected. Enabling Open3D WebVisualizer.\n",
      "[Open3D INFO] WebRTC GUI backend enabled.\n",
      "[Open3D INFO] WebRTCWindowSystem: HTTP handshake server disabled.\n"
     ]
    }
   ],
   "source": [
    "import open3d as o3d\n",
    "import numpy as np\n",
    "import math"
   ]
  },
  {
   "cell_type": "code",
   "execution_count": 2,
   "metadata": {},
   "outputs": [],
   "source": [
    "pcd = o3d.io.read_point_cloud(\"/home/aichi2204/ros2_ws/test/pcl-test/data/map_all_removed/best2/39.pcd\")"
   ]
  },
  {
   "cell_type": "code",
   "execution_count": 3,
   "metadata": {},
   "outputs": [
    {
     "data": {
      "text/plain": [
       "PointCloud with 2502547 points."
      ]
     },
     "execution_count": 3,
     "metadata": {},
     "output_type": "execute_result"
    }
   ],
   "source": [
    "pcd.scale(1 / np.max(pcd.get_max_bound() - pcd.get_min_bound()),\n",
    "          center=pcd.get_center())"
   ]
  },
  {
   "cell_type": "code",
   "execution_count": 19,
   "metadata": {},
   "outputs": [],
   "source": [
    "octree = o3d.geometry.Octree(max_depth=5)\n",
    "octree.convert_from_point_cloud(pcd, size_expand=0.01)"
   ]
  },
  {
   "cell_type": "code",
   "execution_count": 20,
   "metadata": {},
   "outputs": [],
   "source": [
    "# pcd.colors = o3d.utility.Vector3dVector(np.random.uniform(0, 1, size=(2000, 3)))\n",
    "# o3d.visualization.draw_geometries([pcd])\n",
    "# o3d.visualization.draw_geometries([octree])"
   ]
  },
  {
   "cell_type": "code",
   "execution_count": 32,
   "metadata": {},
   "outputs": [
    {
     "data": {
      "text/plain": [
       "(OctreePointColorLeafNode with color [0.105882, 0.105882, 0.0784314] containing 2 points.,\n",
       " OctreeNodeInfo with origin [-50.3946, -8.67925, -1.32178], size 0.0315625, depth 5, child_index 3)"
      ]
     },
     "execution_count": 32,
     "metadata": {},
     "output_type": "execute_result"
    }
   ],
   "source": [
    "node = octree.locate_leaf_node(point)\n",
    "node"
   ]
  },
  {
   "cell_type": "code",
   "execution_count": 46,
   "metadata": {},
   "outputs": [
    {
     "ename": "AttributeError",
     "evalue": "'open3d.cuda.pybind.geometry.OctreePointColorLeafNo' object has no attribute 'origin'",
     "output_type": "error",
     "traceback": [
      "\u001b[0;31m---------------------------------------------------------------------------\u001b[0m",
      "\u001b[0;31mAttributeError\u001b[0m                            Traceback (most recent call last)",
      "Cell \u001b[0;32mIn[46], line 43\u001b[0m\n\u001b[1;32m     40\u001b[0m max_bound \u001b[38;5;241m=\u001b[39m pcd\u001b[38;5;241m.\u001b[39mget_max_bound()\n\u001b[1;32m     41\u001b[0m voxel_size \u001b[38;5;241m=\u001b[39m (max_bound \u001b[38;5;241m-\u001b[39m min_bound) \u001b[38;5;241m/\u001b[39m (\u001b[38;5;241m2\u001b[39m \u001b[38;5;241m*\u001b[39m\u001b[38;5;241m*\u001b[39m octree\u001b[38;5;241m.\u001b[39mmax_depth)\n\u001b[0;32m---> 43\u001b[0m neighbors \u001b[38;5;241m=\u001b[39m \u001b[43mfind_neighbor_voxels\u001b[49m\u001b[43m(\u001b[49m\u001b[43moctree\u001b[49m\u001b[43m,\u001b[49m\u001b[43m \u001b[49m\u001b[43mvoxel\u001b[49m\u001b[43m,\u001b[49m\u001b[43m \u001b[49m\u001b[43mmin_bound\u001b[49m\u001b[43m,\u001b[49m\u001b[43m \u001b[49m\u001b[43mvoxel_size\u001b[49m\u001b[43m)\u001b[49m\n\u001b[1;32m     44\u001b[0m \u001b[38;5;28mprint\u001b[39m(\u001b[38;5;124mf\u001b[39m\u001b[38;5;124m\"\u001b[39m\u001b[38;5;124mNeighbors of the voxel containing \u001b[39m\u001b[38;5;132;01m{\u001b[39;00mpoint\u001b[38;5;132;01m}\u001b[39;00m\u001b[38;5;124m:\u001b[39m\u001b[38;5;124m\"\u001b[39m)\n\u001b[1;32m     45\u001b[0m \u001b[38;5;28;01mfor\u001b[39;00m neighbor \u001b[38;5;129;01min\u001b[39;00m neighbors:\n",
      "Cell \u001b[0;32mIn[46], line 17\u001b[0m, in \u001b[0;36mfind_neighbor_voxels\u001b[0;34m(octree, node, min_bound, voxel_size)\u001b[0m\n\u001b[1;32m     16\u001b[0m \u001b[38;5;28;01mdef\u001b[39;00m \u001b[38;5;21mfind_neighbor_voxels\u001b[39m(octree, node, min_bound, voxel_size):\n\u001b[0;32m---> 17\u001b[0m     center \u001b[38;5;241m=\u001b[39m \u001b[43mget_voxel_center\u001b[49m\u001b[43m(\u001b[49m\u001b[43mnode\u001b[49m\u001b[43m,\u001b[49m\u001b[43m \u001b[49m\u001b[43mmin_bound\u001b[49m\u001b[43m,\u001b[49m\u001b[43m \u001b[49m\u001b[43mvoxel_size\u001b[49m\u001b[43m)\u001b[49m\n\u001b[1;32m     18\u001b[0m     neighbors \u001b[38;5;241m=\u001b[39m []\n\u001b[1;32m     19\u001b[0m     directions \u001b[38;5;241m=\u001b[39m [\n\u001b[1;32m     20\u001b[0m         np\u001b[38;5;241m.\u001b[39marray([\u001b[38;5;241m1\u001b[39m, \u001b[38;5;241m0\u001b[39m, \u001b[38;5;241m0\u001b[39m]), np\u001b[38;5;241m.\u001b[39marray([\u001b[38;5;241m-\u001b[39m\u001b[38;5;241m1\u001b[39m, \u001b[38;5;241m0\u001b[39m, \u001b[38;5;241m0\u001b[39m]),\n\u001b[1;32m     21\u001b[0m         np\u001b[38;5;241m.\u001b[39marray([\u001b[38;5;241m0\u001b[39m, \u001b[38;5;241m1\u001b[39m, \u001b[38;5;241m0\u001b[39m]), np\u001b[38;5;241m.\u001b[39marray([\u001b[38;5;241m0\u001b[39m, \u001b[38;5;241m-\u001b[39m\u001b[38;5;241m1\u001b[39m, \u001b[38;5;241m0\u001b[39m]),\n\u001b[1;32m     22\u001b[0m         np\u001b[38;5;241m.\u001b[39marray([\u001b[38;5;241m0\u001b[39m, \u001b[38;5;241m0\u001b[39m, \u001b[38;5;241m1\u001b[39m]), np\u001b[38;5;241m.\u001b[39marray([\u001b[38;5;241m0\u001b[39m, \u001b[38;5;241m0\u001b[39m, \u001b[38;5;241m-\u001b[39m\u001b[38;5;241m1\u001b[39m])\n\u001b[1;32m     23\u001b[0m     ]\n",
      "Cell \u001b[0;32mIn[46], line 12\u001b[0m, in \u001b[0;36mget_voxel_center\u001b[0;34m(node, min_bound, voxel_size)\u001b[0m\n\u001b[1;32m     11\u001b[0m \u001b[38;5;28;01mdef\u001b[39;00m \u001b[38;5;21mget_voxel_center\u001b[39m(node, min_bound, voxel_size):\n\u001b[0;32m---> 12\u001b[0m     center \u001b[38;5;241m=\u001b[39m min_bound \u001b[38;5;241m+\u001b[39m (np\u001b[38;5;241m.\u001b[39masarray(\u001b[43mnode\u001b[49m\u001b[38;5;241;43m.\u001b[39;49m\u001b[43morigin\u001b[49m) \u001b[38;5;241m+\u001b[39m voxel_size \u001b[38;5;241m/\u001b[39m \u001b[38;5;241m2.0\u001b[39m)\n\u001b[1;32m     13\u001b[0m     \u001b[38;5;28;01mreturn\u001b[39;00m center\n",
      "\u001b[0;31mAttributeError\u001b[0m: 'open3d.cuda.pybind.geometry.OctreePointColorLeafNo' object has no attribute 'origin'"
     ]
    }
   ],
   "source": [
    "# 指定した点のボクセルを取得する関数\n",
    "def find_voxel_for_point(octree, point):\n",
    "    result = octree.locate_leaf_node(point)\n",
    "    if result is not None:\n",
    "        node, _ = result\n",
    "        return node\n",
    "    else:\n",
    "        return None\n",
    "\n",
    "# ノードの中心座標を取得する関数\n",
    "def get_voxel_center(node, min_bound, voxel_size):\n",
    "    center = min_bound + (np.asarray(node.origin) + voxel_size / 2.0)\n",
    "    return center\n",
    "\n",
    "# 近傍のボクセルを取得する関数\n",
    "def find_neighbor_voxels(octree, node, min_bound, voxel_size):\n",
    "    center = get_voxel_center(node, min_bound, voxel_size)\n",
    "    neighbors = []\n",
    "    directions = [\n",
    "        np.array([1, 0, 0]), np.array([-1, 0, 0]),\n",
    "        np.array([0, 1, 0]), np.array([0, -1, 0]),\n",
    "        np.array([0, 0, 1]), np.array([0, 0, -1])\n",
    "    ]\n",
    "    \n",
    "    for direction in directions:\n",
    "        neighbor_center = center + direction * voxel_size\n",
    "        result = octree.locate_leaf_node(neighbor_center)\n",
    "        if result is not None:\n",
    "            neighbor_node, _ = result\n",
    "            neighbors.append(neighbor_node)\n",
    "    \n",
    "    return neighbors\n",
    "\n",
    "\n",
    "point = pcd.points[0]\n",
    "voxel = find_voxel_for_point(octree, point)\n",
    "\n",
    "if voxel is not None:\n",
    "    min_bound = pcd.get_min_bound()\n",
    "    max_bound = pcd.get_max_bound()\n",
    "    voxel_size = (max_bound - min_bound) / (2 ** octree.max_depth)\n",
    "    \n",
    "    neighbors = find_neighbor_voxels(octree, voxel, min_bound, voxel_size)\n",
    "    print(f\"Neighbors of the voxel containing {point}:\")\n",
    "    for neighbor in neighbors:\n",
    "        print(get_voxel_center(neighbor, min_bound, voxel_size))\n",
    "else:\n",
    "    print(f\"Point {point} is not in any voxel\")"
   ]
  },
  {
   "cell_type": "code",
   "execution_count": null,
   "metadata": {},
   "outputs": [],
   "source": []
  },
  {
   "cell_type": "code",
   "execution_count": 61,
   "metadata": {},
   "outputs": [],
   "source": [
    "point = pcd.points[0]\n",
    "voxel = find_voxel_for_point(octree, point)\n",
    "min_bound = pcd.get_min_bound()\n",
    "max_bound = pcd.get_max_bound()\n",
    "voxel_size = (max_bound - min_bound) / (2 ** octree.max_depth)\n",
    "\n",
    "center = get_voxel_center(voxel, min_bound, voxel_size)"
   ]
  },
  {
   "cell_type": "code",
   "execution_count": 118,
   "metadata": {},
   "outputs": [
    {
     "name": "stdout",
     "output_type": "stream",
     "text": [
      "[OctreePointColorLeafNode with color [0.211765, 0.219608, 0.2] containing 213 points., None, OctreePointColorLeafNode with color [0.133333, 0.129412, 0.113725] containing 302 points., OctreePointColorLeafNode with color [0.227451, 0.223529, 0.196078] containing 63 points., None, None]\n"
     ]
    }
   ],
   "source": [
    "# voxel 内の点をすべて抽出\n",
    "point = pcd.points[100]\n",
    "node, node_info = octree.locate_leaf_node(point)\n",
    "node_points = np.asarray(pcd.points)[node.indices]\n",
    "\n",
    "neighbors = []\n",
    "directions = [\n",
    "    np.array([1, 0, 0]), np.array([-1, 0, 0]),\n",
    "    np.array([0, 1, 0]), np.array([0, -1, 0]),\n",
    "    np.array([0, 0, 1]), np.array([0, 0, -1])\n",
    "]\n",
    "\n",
    "for direction in directions:\n",
    "    neighbor_center = node_info.origin + direction * node_info.size\n",
    "    result = octree.locate_leaf_node(neighbor_center)\n",
    "    if result is not None:\n",
    "        neighbor_node, _ = result\n",
    "        neighbors.append(neighbor_node)\n",
    "\n",
    "print(neighbors)"
   ]
  },
  {
   "cell_type": "code",
   "execution_count": 119,
   "metadata": {},
   "outputs": [
    {
     "data": {
      "text/plain": [
       "Octree with origin: [-50.4262, -8.83706, -1.76366], size: 1.01, max_depth: 5"
      ]
     },
     "execution_count": 119,
     "metadata": {},
     "output_type": "execute_result"
    }
   ],
   "source": [
    "octree"
   ]
  },
  {
   "cell_type": "code",
   "execution_count": null,
   "metadata": {},
   "outputs": [],
   "source": []
  }
 ],
 "metadata": {
  "kernelspec": {
   "display_name": "cloud2mesh_tool",
   "language": "python",
   "name": "python3"
  },
  "language_info": {
   "codemirror_mode": {
    "name": "ipython",
    "version": 3
   },
   "file_extension": ".py",
   "mimetype": "text/x-python",
   "name": "python",
   "nbconvert_exporter": "python",
   "pygments_lexer": "ipython3",
   "version": "3.9.19"
  }
 },
 "nbformat": 4,
 "nbformat_minor": 2
}
